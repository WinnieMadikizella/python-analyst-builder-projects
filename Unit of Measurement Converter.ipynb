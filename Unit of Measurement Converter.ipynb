{
 "cells": [
  {
   "cell_type": "markdown",
   "id": "44c68b40-8753-4e38-a985-cff4e47b2e7d",
   "metadata": {},
   "source": [
    "Unit of Measurement Converter"
   ]
  },
  {
   "cell_type": "code",
   "execution_count": 3,
   "id": "aca4fc45-8df4-4888-838f-88b2b9037f82",
   "metadata": {},
   "outputs": [
    {
     "name": "stdin",
     "output_type": "stream",
     "text": [
      "Enter Starting Unit of Measurement(inches, feet, yards):  inches\n",
      "Enter Unit of Measurement to Convert to(inches, feet, yards):  feet\n",
      "Enter Starting Measurement in Inches:  24\n",
      "Enter Starting Measurement in Feet:  3\n",
      "Enter Starting Measurement in Yards:  1\n"
     ]
    }
   ],
   "source": [
    "convert_from = input(\"Enter Starting Unit of Measurement(inches, feet, yards): \")\n",
    "\n",
    "convert_to = input(\"Enter Unit of Measurement to Convert to(inches, feet, yards): \")\n",
    "\n",
    "number_of_inches = input(\"Enter Starting Measurement in Inches: \")\n",
    "\n",
    "number_of_feet = input(\"Enter Starting Measurement in Feet: \")\n",
    "\n",
    "number_of_yards = input(\"Enter Starting Measurement in Yards: \")"
   ]
  },
  {
   "cell_type": "code",
   "execution_count": 33,
   "id": "866b413f-4060-4416-a023-5818bcb56d29",
   "metadata": {},
   "outputs": [
    {
     "name": "stdin",
     "output_type": "stream",
     "text": [
      "Enter Starting Unit of Measurement(inches, feet, yards):  feet\n",
      "Enter Unit of Measurement to Convert to(inches, feet, yards):  yards\n",
      "Enter Starting Measurement in Feet:  5\n"
     ]
    },
    {
     "name": "stdout",
     "output_type": "stream",
     "text": [
      "Result: 5 Feet = 1.67 Yards\n"
     ]
    }
   ],
   "source": [
    "convert_from = input(\"Enter Starting Unit of Measurement(inches, feet, yards): \")\n",
    "\n",
    "convert_to = input(\"Enter Unit of Measurement to Convert to(inches, feet, yards): \")\n",
    "\n",
    "if convert_from.lower() in [\"inches\", \"in\", \"inch\"]:\n",
    "    number_of_inches = int(input(\"Enter Starting Measurement in Inches: \"))\n",
    "    if convert_to.lower() in [\"feet\", \"foot\", \"ft\"]:\n",
    "        print(\"Result: \" +str(number_of_inches) +\" Inches = \" + str(round(number_of_inches / 12,2)) + \" Feet\")\n",
    "    elif convert_to.lower() in [\"yards\", \"yard\", \"yds\", \"yd\"]:\n",
    "        print(\"Result: \" +str(number_of_inches) +\" Inches = \" + str(round(number_of_inches / 36,2)) + \" Yards\")\n",
    "    else:\n",
    "        print('Please Enter Either Inches, Feet or Yards')\n",
    "elif convert_from.lower() in [\"feet\", \"foot\", \"ft\"]:\n",
    "    number_of_feet = int(input(\"Enter Starting Measurement in Feet: \"))\n",
    "    if convert_to.lower() in [\"inches\", \"in\", \"inch\"]:\n",
    "        print(\"Result: \" +str(number_of_feet) +\" Feet = \" + str(round(number_of_feet * 12)) + \" Inches\")\n",
    "    elif convert_to.lower() in [\"yards\", \"yard\", \"yds\", \"yd\"]:\n",
    "        print(\"Result: \" +str(number_of_feet) +\" Feet = \" + str(round(number_of_feet / 3,2)) + \" Yards\")\n",
    "    else:\n",
    "        print('Please Enter Either Inches, Feet or Yards')\n",
    "elif convert_from.lower() in [\"yards\", \"yard\", \"yds\", \"yd\"]:\n",
    "    number_of_yards = int(input(\"Enter Starting Measurement in Yards: \"))\n",
    "    if convert_to.lower() in [\"inches\", \"in\", \"inch\"]:\n",
    "        print(\"Result: \" +str(number_of_yards) +\" Yard = \" + str(round(number_of_yards * 36)) + \" Inches\")\n",
    "    elif convert_to.lower() in [\"feet\", \"foot\", \"ft\"]:\n",
    "        print(\"Result: \" +str(number_of_yards) +\" Yard = \" + str(round(number_of_yards * 3)) + \" Feet\")\n",
    "    else:\n",
    "        print('Please Enter Either Inches, Feet or Yards')\n",
    "else:\n",
    "    print('Please Enter Either Inches, Feet or Yards')"
   ]
  },
  {
   "cell_type": "code",
   "execution_count": null,
   "id": "73144863-0758-44c6-8b2c-067c5b1d9c60",
   "metadata": {},
   "outputs": [],
   "source": []
  }
 ],
 "metadata": {
  "kernelspec": {
   "display_name": "Python 3 (ipykernel)",
   "language": "python",
   "name": "python3"
  },
  "language_info": {
   "codemirror_mode": {
    "name": "ipython",
    "version": 3
   },
   "file_extension": ".py",
   "mimetype": "text/x-python",
   "name": "python",
   "nbconvert_exporter": "python",
   "pygments_lexer": "ipython3",
   "version": "3.13.5"
  }
 },
 "nbformat": 4,
 "nbformat_minor": 5
}
