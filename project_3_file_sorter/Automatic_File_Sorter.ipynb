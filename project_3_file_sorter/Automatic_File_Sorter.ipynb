{
 "cells": [
  {
   "cell_type": "code",
   "execution_count": 23,
   "id": "8e94ef7e-979f-4592-bc70-1a49c2bfd3a7",
   "metadata": {},
   "outputs": [],
   "source": [
    "import os\n",
    "import shutil\n",
    "\n",
    "path = r'C:\\Users\\user\\Desktop\\Documents\\Analyst Builder Python\\Automatic_Sorter'\n",
    "\n",
    "# Ensure subfolders exist\n",
    "folders = ['CSV Files', 'Text Files', 'Image Files']\n",
    "for folder in folders:\n",
    "    folder_path = os.path.join(path, folder)\n",
    "    if not os.path.exists(folder_path):\n",
    "        os.makedirs(folder_path)\n",
    "\n",
    "# Define file_names (this was missing)\n",
    "file_names = os.listdir(path)\n",
    "\n",
    "# Move files into their corresponding folders\n",
    "for file in file_names:\n",
    "    file_path = os.path.join(path, file)\n",
    "    if os.path.isfile(file_path):  # only move files, not folders\n",
    "        lower_file = file.lower()\n",
    "        if lower_file.endswith('.csv') and not os.path.exists(os.path.join(path, 'CSV Files', file)):\n",
    "            shutil.move(file_path, os.path.join(path, 'CSV Files', file))\n",
    "        elif lower_file.endswith('.png') and not os.path.exists(os.path.join(path, 'Image Files', file)):\n",
    "            shutil.move(file_path, os.path.join(path, 'Image Files', file))\n",
    "        elif lower_file.endswith('.txt') and not os.path.exists(os.path.join(path, 'Text Files', file)):\n",
    "            shutil.move(file_path, os.path.join(path, 'Text Files', file))\n"
   ]
  },
  {
   "cell_type": "code",
   "execution_count": null,
   "id": "6ceaa70f-e26a-4c08-9dd8-0650e8bf722c",
   "metadata": {},
   "outputs": [],
   "source": []
  }
 ],
 "metadata": {
  "kernelspec": {
   "display_name": "Python 3 (ipykernel)",
   "language": "python",
   "name": "python3"
  },
  "language_info": {
   "codemirror_mode": {
    "name": "ipython",
    "version": 3
   },
   "file_extension": ".py",
   "mimetype": "text/x-python",
   "name": "python",
   "nbconvert_exporter": "python",
   "pygments_lexer": "ipython3",
   "version": "3.13.5"
  }
 },
 "nbformat": 4,
 "nbformat_minor": 5
}
