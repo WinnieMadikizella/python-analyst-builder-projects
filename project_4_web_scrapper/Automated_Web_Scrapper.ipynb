{
 "cells": [
  {
   "cell_type": "markdown",
   "id": "51180218-f606-4473-87ee-bda337398008",
   "metadata": {},
   "source": [
    "Automated Web Scrapper"
   ]
  },
  {
   "cell_type": "code",
   "execution_count": null,
   "id": "817004ee-fceb-439e-9c26-51a8bfbafda8",
   "metadata": {},
   "outputs": [],
   "source": [
    "from bs4 import BeautifulSoup\n",
    "import requests\n",
    "import pandas as pd\n",
    "from datetime import datetime\n",
    "import os\n",
    "import time"
   ]
  },
  {
   "cell_type": "code",
   "execution_count": null,
   "id": "55dfeb4d-1812-4d8f-9ff4-5cb966b1736e",
   "metadata": {},
   "outputs": [],
   "source": [
    "from bs4 import BeautifulSoup\n",
    "import requests\n",
    "import pandas as pd\n",
    "from datetime import datetime\n",
    "import os\n",
    "import time\n",
    "\n",
    "def automated_crypto_pull():\n",
    "    \n",
    "    url = 'https://coinmarketcap.com/currencies/bitcoin/'\n",
    "    \n",
    "    headers = {\n",
    "        'User-Agent': 'Mozilla/5.0 (Windows NT 10.0; Win64; x64) AppleWebKit/537.36 (KHTML, like Gecko) Chrome/115.0 Safari/537.36'\n",
    "    }\n",
    "    \n",
    "    page = requests.get(url, headers=headers)\n",
    "    \n",
    "    soup = BeautifulSoup(page.text, 'html.parser')\n",
    "    \n",
    "    # Find Bitcoin name\n",
    "    crypto_name = soup.find('span', class_ = 'sc-65e7f566-0 czZVlm base-text').text\n",
    "    print(crypto_name)\n",
    "    \n",
    "    # Find Bitcoin price\n",
    "    crypto_price = soup.find('span', class_ = 'sc-65e7f566-0 esyGGG base-text').text\n",
    "    final_price = crypto_price.replace('$', '')\n",
    "    print(final_price)\n",
    "    \n",
    "    date_time = datetime.now()\n",
    "    \n",
    "    dict = {'Crypto Name': crypto_name,\n",
    "            'Price': final_price,\n",
    "            'TimeStamp' : date_time}\n",
    "    df = pd.DataFrame([dict])\n",
    "    \n",
    "    if os.path.exists(r'C:\\Users\\user\\Desktop\\Documents\\Analyst Builder Python\\Crypto Web Scrapper\\Crypto_Automated_Scrapper.csv'):\n",
    "        df.to_csv(r'C:\\Users\\user\\Desktop\\Documents\\Analyst Builder Python\\Crypto Web Scrapper\\Crypto_Automated_Scrapper.csv', mode = 'a', header = False, index = False)\n",
    "    else:\n",
    "        df.to_csv(r'C:\\Users\\user\\Desktop\\Documents\\Analyst Builder Python\\Crypto Web Scrapper\\Crypto_Automated_Scrapper.csv', index = False)\n",
    "    print(df)\n",
    "while True: \n",
    "    automated_crypto_pull() \n",
    "    time.sleep(10)\n"
   ]
  },
  {
   "cell_type": "code",
   "execution_count": null,
   "id": "d095a01d-8a2f-4531-8ea2-97e5fdf42da2",
   "metadata": {},
   "outputs": [],
   "source": []
  },
  {
   "cell_type": "code",
   "execution_count": null,
   "id": "07237322-acb9-48f4-b2df-7aa81d5e7ba4",
   "metadata": {},
   "outputs": [],
   "source": []
  },
  {
   "cell_type": "code",
   "execution_count": null,
   "id": "9ff96bfe-1d14-4045-8586-43ce7104611a",
   "metadata": {},
   "outputs": [],
   "source": []
  }
 ],
 "metadata": {
  "kernelspec": {
   "display_name": "Python 3 (ipykernel)",
   "language": "python",
   "name": "python3"
  },
  "language_info": {
   "codemirror_mode": {
    "name": "ipython",
    "version": 3
   },
   "file_extension": ".py",
   "mimetype": "text/x-python",
   "name": "python",
   "nbconvert_exporter": "python",
   "pygments_lexer": "ipython3",
   "version": "3.13.5"
  }
 },
 "nbformat": 4,
 "nbformat_minor": 5
}
