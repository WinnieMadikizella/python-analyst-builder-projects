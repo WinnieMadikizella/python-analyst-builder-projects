{
 "cells": [
  {
   "cell_type": "markdown",
   "id": "177e29cc-8c84-4540-83e9-c6b80e459cf3",
   "metadata": {},
   "source": [
    "Calculator"
   ]
  },
  {
   "cell_type": "code",
   "execution_count": 5,
   "id": "96d748a7-c9da-4745-a313-dfaabcf7b06e",
   "metadata": {},
   "outputs": [],
   "source": [
    "def add(x,y):\n",
    "    return x + y\n",
    "    \n",
    "def subtract(x, y):\n",
    "    return x - y\n",
    "\n",
    "def multiply(x, y):\n",
    "    return x * y\n",
    "\n",
    "def divide(x, y):\n",
    "    return x / y"
   ]
  },
  {
   "cell_type": "code",
   "execution_count": 6,
   "id": "e32d9896-54fe-41d8-b931-c7cc52d4453d",
   "metadata": {},
   "outputs": [
    {
     "name": "stdin",
     "output_type": "stream",
     "text": [
      "Enter Choice (A, S, M, D):  A\n",
      "Enter first number:  1\n",
      "Enter second number:  2\n"
     ]
    }
   ],
   "source": [
    "choice = input('Enter Choice (A, S, M, D): ')\n"
   ]
  },
  {
   "cell_type": "code",
   "execution_count": 16,
   "id": "0139bea9-71be-47b1-90e2-60e798202a70",
   "metadata": {},
   "outputs": [
    {
     "name": "stdout",
     "output_type": "stream",
     "text": [
      "Enter 'A' for Addition\n",
      "Enter 'S' for Subtraction\n",
      "Enter 'M' for Multiplication\n",
      "Enter 'D' for Division\n"
     ]
    },
    {
     "name": "stdin",
     "output_type": "stream",
     "text": [
      "Enter Choice (A, S, M, D):  a\n",
      "Enter first number:  2\n",
      "Enter second number:  3\n"
     ]
    },
    {
     "name": "stdout",
     "output_type": "stream",
     "text": [
      "Result: 2.0 + 3.0 = 5.0\n"
     ]
    }
   ],
   "source": [
    "print(\"Enter 'A' for Addition\")\n",
    "print(\"Enter 'S' for Subtraction\")\n",
    "print(\"Enter 'M' for Multiplication\")\n",
    "print(\"Enter 'D' for Division\")\n",
    "\n",
    "choice = input('Enter Choice (A, S, M, D): ').upper()\n",
    "\n",
    "if choice in (\"A\", \"ADD\", \"ADDITION\", \n",
    "              \"S\", \"SUBTRACT\", \"SUBTRACTION\",\n",
    "              \"M\", \"MULTIPLY\", \"MULTIPLICATION\",\n",
    "              \"D\", \"DIVIDE\", \"DIVISION\"):\n",
    "    \n",
    "    num1 = float(input('Enter first number: '))\n",
    "    num2 = float(input('Enter second number: '))\n",
    "\n",
    "    if choice in (\"A\", \"ADD\", \"ADDITION\"):\n",
    "        print('Result:', num1, '+', num2, '=', add(num1, num2))\n",
    "\n",
    "    elif choice in (\"S\", \"SUBTRACT\", \"SUBTRACTION\"):\n",
    "        print('Result:', num1, '-', num2, '=', subtract(num1, num2))\n",
    "\n",
    "    elif choice in (\"M\", \"MULTIPLY\", \"MULTIPLICATION\"):\n",
    "        print('Result:', num1, '*', num2, '=', multiply(num1, num2))\n",
    "\n",
    "    elif choice in (\"D\", \"DIVIDE\", \"DIVISION\"):\n",
    "        print('Result:', num1, '/', num2, '=', divide(num1, num2))\n",
    "\n",
    "else:\n",
    "    print(\"Please input a correct choice\")"
   ]
  },
  {
   "cell_type": "code",
   "execution_count": 18,
   "id": "67cb131c-f499-4b8c-9817-a900cce1b105",
   "metadata": {},
   "outputs": [
    {
     "name": "stdout",
     "output_type": "stream",
     "text": [
      "Enter 'A' for Addition\n",
      "Enter 'S' for Subtraction\n",
      "Enter 'M' for Multiplication\n",
      "Enter 'D' for Division\n"
     ]
    },
    {
     "name": "stdin",
     "output_type": "stream",
     "text": [
      "Enter Choice (A, S, M, D):  add\n",
      "Enter first number:  20\n",
      "Enter second number:  40\n"
     ]
    },
    {
     "name": "stdout",
     "output_type": "stream",
     "text": [
      "Result: 20.0 + 40.0 = 60.0\n"
     ]
    },
    {
     "name": "stdin",
     "output_type": "stream",
     "text": [
      "Want to do another calculation? (yes/no?):  yes\n",
      "Enter Choice (A, S, M, D):  s\n",
      "Enter first number:  40\n",
      "Enter second number:  10\n"
     ]
    },
    {
     "name": "stdout",
     "output_type": "stream",
     "text": [
      "Result: 40.0 - 10.0 = 30.0\n"
     ]
    },
    {
     "name": "stdin",
     "output_type": "stream",
     "text": [
      "Want to do another calculation? (yes/no?):  yes\n",
      "Enter Choice (A, S, M, D):  d\n",
      "Enter first number:  40\n",
      "Enter second number:  10\n"
     ]
    },
    {
     "name": "stdout",
     "output_type": "stream",
     "text": [
      "Result: 40.0 / 10.0 = 4.0\n"
     ]
    },
    {
     "name": "stdin",
     "output_type": "stream",
     "text": [
      "Want to do another calculation? (yes/no?):  no\n"
     ]
    }
   ],
   "source": [
    "print(\"Enter 'A' for Addition\")\n",
    "print(\"Enter 'S' for Subtraction\")\n",
    "print(\"Enter 'M' for Multiplication\")\n",
    "print(\"Enter 'D' for Division\")\n",
    "\n",
    "\n",
    "while True:\n",
    "    choice = input('Enter Choice (A, S, M, D): ').upper()\n",
    "\n",
    "    if choice in (\"A\", \"ADD\", \"ADDITION\", \n",
    "                  \"S\", \"SUBTRACT\", \"SUBTRACTION\",\n",
    "                  \"M\", \"MULTIPLY\", \"MULTIPLICATION\",\n",
    "                  \"D\", \"DIVIDE\", \"DIVISION\"):\n",
    "        \n",
    "        num1 = float(input('Enter first number: '))\n",
    "        num2 = float(input('Enter second number: '))\n",
    "    \n",
    "        if choice in (\"A\", \"ADD\", \"ADDITION\"):\n",
    "            print('Result:', num1, '+', num2, '=', add(num1, num2))\n",
    "    \n",
    "        elif choice in (\"S\", \"SUBTRACT\", \"SUBTRACTION\"):\n",
    "            print('Result:', num1, '-', num2, '=', subtract(num1, num2))\n",
    "    \n",
    "        elif choice in (\"M\", \"MULTIPLY\", \"MULTIPLICATION\"):\n",
    "            print('Result:', num1, '*', num2, '=', multiply(num1, num2))\n",
    "    \n",
    "        elif choice in (\"D\", \"DIVIDE\", \"DIVISION\"):\n",
    "            print('Result:', num1, '/', num2, '=', divide(num1, num2))\n",
    "    \n",
    "    else:\n",
    "        print(\"Please input a correct choice\")\n",
    "    next_calculation = input(\"Want to do another calculation? (yes/no?): \")\n",
    "    if next_calculation.lower() in (\"no\", \"n\", \"nope\"):\n",
    "        break"
   ]
  },
  {
   "cell_type": "code",
   "execution_count": null,
   "id": "e7e3706f-f44b-4f85-8af4-b6a576343d1d",
   "metadata": {},
   "outputs": [],
   "source": []
  }
 ],
 "metadata": {
  "kernelspec": {
   "display_name": "Python 3 (ipykernel)",
   "language": "python",
   "name": "python3"
  },
  "language_info": {
   "codemirror_mode": {
    "name": "ipython",
    "version": 3
   },
   "file_extension": ".py",
   "mimetype": "text/x-python",
   "name": "python",
   "nbconvert_exporter": "python",
   "pygments_lexer": "ipython3",
   "version": "3.13.5"
  }
 },
 "nbformat": 4,
 "nbformat_minor": 5
}
