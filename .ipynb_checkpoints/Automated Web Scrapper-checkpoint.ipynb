{
 "cells": [
  {
   "cell_type": "markdown",
   "id": "51180218-f606-4473-87ee-bda337398008",
   "metadata": {},
   "source": [
    "Automated Web Scrapper"
   ]
  },
  {
   "cell_type": "code",
   "execution_count": 68,
   "id": "5bb0defa-d4ea-470f-a2fc-90a56e8ca29d",
   "metadata": {},
   "outputs": [],
   "source": [
    "from bs4 import BeautifulSoup\n",
    "import requests\n",
    "import pandas as pd\n",
    "from datetime import datetime\n",
    "import os\n",
    "import time"
   ]
  },
  {
   "cell_type": "code",
   "execution_count": 69,
   "id": "11624e84-a516-4189-b688-8cef9c1924fa",
   "metadata": {},
   "outputs": [],
   "source": [
    "def automated_crypto_pull():\n",
    "    \n",
    "    url = 'https://coinmarketcap.com/currencies/bitcoin/'\n",
    "    \n",
    "    headers = {\n",
    "        'User-Agent': 'Mozilla/5.0 (Windows NT 10.0; Win64; x64) AppleWebKit/537.36 (KHTML, like Gecko) Chrome/115.0 Safari/537.36'\n",
    "    }\n",
    "    \n",
    "    page = requests.get(url, headers=headers)\n",
    "    \n",
    "    soup = BeautifulSoup(page.text, 'html.parser')\n",
    "    \n",
    "    # Find Bitcoin name\n",
    "    crypto_name = soup.find('span', class_ = 'sc-65e7f566-0 czZVlm base-text').text\n",
    "    print(crypto_name)\n",
    "    \n",
    "    # Find Bitcoin price\n",
    "    crypto_price = soup.find('span', class_ = 'sc-65e7f566-0 esyGGG base-text').text\n",
    "    final_price = crypto_price.replace('$', '')\n",
    "    print(final_price)\n",
    "    \n",
    "    date_time = datetime.now()\n",
    "    \n",
    "    dict = {'Crypto Name': crypto_name,\n",
    "            'Price': final_price,\n",
    "            'TimeStamp' : date_time}\n",
    "    df = pd.DataFrame([dict])\n",
    "    \n",
    "    if os.path.exists(r'C:\\Users\\user\\Desktop\\Documents\\Analyst Builder Python\\Crypto Web Scrapper\\Crypto_Automated_Scrapper.csv'):\n",
    "        df.to_csv(r'C:\\Users\\user\\Desktop\\Documents\\Analyst Builder Python\\Crypto Web Scrapper\\Crypto_Automated_Scrapper.csv', mode = 'a', header = False, index = False)\n",
    "    else:\n",
    "        df.to_csv(r'C:\\Users\\user\\Desktop\\Documents\\Analyst Builder Python\\Crypto Web Scrapper\\Crypto_Automated_Scrapper.csv', index = False)\n",
    "    print(df)"
   ]
  },
  {
   "cell_type": "code",
   "execution_count": 70,
   "id": "312c7543-c181-48d1-a958-e3f59529ec0b",
   "metadata": {},
   "outputs": [
    {
     "name": "stdout",
     "output_type": "stream",
     "text": [
      "BTC\n",
      "118,589.15\n",
      "  Crypto Name       Price                  TimeStamp\n",
      "0         BTC  118,589.15 2025-08-15 02:32:58.804484\n",
      "BTC\n",
      "118,589.15\n",
      "  Crypto Name       Price                  TimeStamp\n",
      "0         BTC  118,589.15 2025-08-15 02:33:09.160558\n",
      "BTC\n",
      "118,589.15\n",
      "  Crypto Name       Price                  TimeStamp\n",
      "0         BTC  118,589.15 2025-08-15 02:33:19.460578\n",
      "BTC\n",
      "118,589.15\n",
      "  Crypto Name       Price                  TimeStamp\n",
      "0         BTC  118,589.15 2025-08-15 02:33:29.907234\n",
      "BTC\n",
      "118,589.15\n",
      "  Crypto Name       Price                  TimeStamp\n",
      "0         BTC  118,589.15 2025-08-15 02:33:40.405498\n",
      "BTC\n",
      "118,589.15\n",
      "  Crypto Name       Price                  TimeStamp\n",
      "0         BTC  118,589.15 2025-08-15 02:33:50.675572\n",
      "BTC\n",
      "118,589.15\n",
      "  Crypto Name       Price                  TimeStamp\n",
      "0         BTC  118,589.15 2025-08-15 02:34:01.117294\n",
      "BTC\n",
      "118,587.61\n",
      "  Crypto Name       Price                  TimeStamp\n",
      "0         BTC  118,587.61 2025-08-15 02:34:11.394214\n",
      "BTC\n",
      "118,587.61\n",
      "  Crypto Name       Price                  TimeStamp\n",
      "0         BTC  118,587.61 2025-08-15 02:34:21.770417\n",
      "BTC\n",
      "118,587.61\n",
      "  Crypto Name       Price                  TimeStamp\n",
      "0         BTC  118,587.61 2025-08-15 02:34:32.120626\n",
      "BTC\n",
      "118,587.61\n",
      "  Crypto Name       Price                  TimeStamp\n",
      "0         BTC  118,587.61 2025-08-15 02:34:42.480578\n",
      "BTC\n",
      "118,587.61\n",
      "  Crypto Name       Price                  TimeStamp\n",
      "0         BTC  118,587.61 2025-08-15 02:34:52.896375\n",
      "BTC\n",
      "118,587.61\n",
      "  Crypto Name       Price                  TimeStamp\n",
      "0         BTC  118,587.61 2025-08-15 02:35:04.470742\n",
      "BTC\n",
      "118,595.53\n",
      "  Crypto Name       Price                  TimeStamp\n",
      "0         BTC  118,595.53 2025-08-15 02:35:15.213733\n"
     ]
    },
    {
     "ename": "KeyboardInterrupt",
     "evalue": "",
     "output_type": "error",
     "traceback": [
      "\u001b[1;31m---------------------------------------------------------------------------\u001b[0m",
      "\u001b[1;31mKeyboardInterrupt\u001b[0m                         Traceback (most recent call last)",
      "Cell \u001b[1;32mIn[70], line 3\u001b[0m\n\u001b[0;32m      1\u001b[0m \u001b[38;5;28;01mwhile\u001b[39;00m \u001b[38;5;28;01mTrue\u001b[39;00m: \n\u001b[0;32m      2\u001b[0m     automated_crypto_pull() \n\u001b[1;32m----> 3\u001b[0m     time\u001b[38;5;241m.\u001b[39msleep(\u001b[38;5;241m10\u001b[39m)\n",
      "\u001b[1;31mKeyboardInterrupt\u001b[0m: "
     ]
    }
   ],
   "source": [
    "while True: \n",
    "    automated_crypto_pull() \n",
    "    time.sleep(10)"
   ]
  },
  {
   "cell_type": "code",
   "execution_count": null,
   "id": "61654de6-053b-433d-908d-b121ad97bf2b",
   "metadata": {},
   "outputs": [],
   "source": []
  }
 ],
 "metadata": {
  "kernelspec": {
   "display_name": "Python 3 (ipykernel)",
   "language": "python",
   "name": "python3"
  },
  "language_info": {
   "codemirror_mode": {
    "name": "ipython",
    "version": 3
   },
   "file_extension": ".py",
   "mimetype": "text/x-python",
   "name": "python",
   "nbconvert_exporter": "python",
   "pygments_lexer": "ipython3",
   "version": "3.13.5"
  }
 },
 "nbformat": 4,
 "nbformat_minor": 5
}
